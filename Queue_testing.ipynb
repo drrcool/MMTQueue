{
 "cells": [
  {
   "cell_type": "markdown",
   "metadata": {},
   "source": [
    "# MMT Queue testing. \n",
    "\n",
    "This notebook is mainly for testing/prototyping. Take nothing in here as final code\n",
    "\n"
   ]
  },
  {
   "cell_type": "code",
   "execution_count": 1,
   "metadata": {
    "collapsed": true
   },
   "outputs": [],
   "source": [
    "# Imports\n",
    "import ephem\n"
   ]
  },
  {
   "cell_type": "markdown",
   "metadata": {},
   "source": [
    "## Can I get the sunrise and sunset correct?"
   ]
  },
  {
   "cell_type": "code",
   "execution_count": 113,
   "metadata": {
    "collapsed": false
   },
   "outputs": [],
   "source": [
    "mmt = ephem.Observer()\n",
    "mmt.pressure = 0\n",
    "mmt.horizon = \"-0:34\"\n",
    "mmt.lat = '31:41:19.6'\n",
    "mmt.lon = '-110:53:04.4'\n",
    "mmt.elevation = 2600"
   ]
  },
  {
   "cell_type": "code",
   "execution_count": 114,
   "metadata": {
    "collapsed": false
   },
   "outputs": [
    {
     "name": "stdout",
     "output_type": "stream",
     "text": [
      "2016/2/10 01:04:51\n",
      "2016-02-09 18:04:51.000001\n"
     ]
    }
   ],
   "source": [
    "j = ephem.Sun()\n",
    "d = mmt.next_setting(ephem.Sun())\n",
    "print(d)\n",
    "print(ephem.localtime(d))"
   ]
  },
  {
   "cell_type": "code",
   "execution_count": null,
   "metadata": {
    "collapsed": true
   },
   "outputs": [],
   "source": []
  }
 ],
 "metadata": {
  "kernelspec": {
   "display_name": "Python 3",
   "language": "python",
   "name": "python3"
  },
  "language_info": {
   "codemirror_mode": {
    "name": "ipython",
    "version": 3
   },
   "file_extension": ".py",
   "mimetype": "text/x-python",
   "name": "python",
   "nbconvert_exporter": "python",
   "pygments_lexer": "ipython3",
   "version": "3.5.1"
  }
 },
 "nbformat": 4,
 "nbformat_minor": 0
}
